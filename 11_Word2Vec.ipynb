{
  "nbformat": 4,
  "nbformat_minor": 0,
  "metadata": {
    "colab": {
      "provenance": []
    },
    "kernelspec": {
      "name": "python3",
      "display_name": "Python 3"
    },
    "language_info": {
      "name": "python"
    }
  },
  "cells": [
    {
      "cell_type": "markdown",
      "source": [
        "## Fasttext + CBOW and Skip Gram"
      ],
      "metadata": {
        "id": "3rOLP7Mmk6Lq"
      }
    },
    {
      "cell_type": "code",
      "execution_count": null,
      "metadata": {
        "colab": {
          "base_uri": "https://localhost:8080/"
        },
        "id": "FMCk6bUe6rOh",
        "outputId": "2c56c1d1-ba8c-4b24-e102-71921d4d5c26"
      },
      "outputs": [
        {
          "output_type": "stream",
          "name": "stdout",
          "text": [
            "🔍 Embedding for 'learning':\n",
            "[ 7.8489719e-04 -5.5092871e-05 -1.0345089e-03  2.8868951e-04\n",
            " -1.2249848e-03 -4.6768025e-04 -7.4380514e-04 -8.5682009e-04\n",
            "  1.5211044e-03  1.9396434e-04]...\n",
            "\n",
            "🔗 Most similar to 'learning':\n",
            "[('embedding', 0.2744825780391693), ('embeddings', 0.26391923427581787), ('fox', 0.21784138679504395), ('some', 0.19297128915786743), ('n-grams', 0.17175805568695068)]\n"
          ]
        }
      ],
      "source": [
        "from gensim.models import FastText\n",
        "\n",
        "# Step 1: Sample corpus\n",
        "corpus = [\n",
        "    \"The quick brown fox jumps over the lazy dog\",\n",
        "    \"I love learning natural language processing\",\n",
        "    \"FastText uses character n-grams to improve embedding quality\",\n",
        "    \"Word embeddings help in many NLP tasks\",\n",
        "    \"Dogs are better than cats for some people\",\n",
        "    \"I enjoy solving problems with machine learning\"\n",
        "]\n",
        "\n",
        "# Step 2: Preprocess\n",
        "tokenized = [sentence.lower().split() for sentence in corpus]\n",
        "\n",
        "# Step 3: Train FastText in CBOW mode (sg=0)\n",
        "cbow_model = FastText(sentences=tokenized, vector_size=100, window=5, min_count=1, sg=0, epochs=100)\n",
        "\n",
        "# Step 4: Check embeddings\n",
        "word = 'learning'\n",
        "print(f\"🔍 Embedding for '{word}':\\n{cbow_model.wv[word][:10]}...\")  # First 10 values\n",
        "\n",
        "# Step 5: Similar words\n",
        "print(\"\\n🔗 Most similar to 'learning':\")\n",
        "print(cbow_model.wv.most_similar('learning', topn=5))"
      ]
    },
    {
      "cell_type": "code",
      "source": [
        "from gensim.models import Word2Vec\n",
        "\n",
        "# Step 1: Use same tokenized corpus\n",
        "# Already done in previous block\n",
        "\n",
        "# Step 2: Train Word2Vec using Skip-Gram (sg=1) + Negative Sampling (default)\n",
        "sg_ns_model = Word2Vec(sentences=tokenized, vector_size=100, window=5, min_count=1, sg=1, negative=10, epochs=100)\n",
        "\n",
        "# Step 3: Word embedding\n",
        "word = 'nlp'\n",
        "print(f\"🔍 Embedding for '{word}':\\n{sg_ns_model.wv[word][:10]}...\")\n",
        "\n",
        "# Step 4: Word similarity\n",
        "print(\"\\n🔗 Most similar to 'dogs':\")\n",
        "print(sg_ns_model.wv.most_similar(\"dogs\", topn=3))"
      ],
      "metadata": {
        "colab": {
          "base_uri": "https://localhost:8080/"
        },
        "id": "1xRbbnI8kMbo",
        "outputId": "4f41261e-f3b3-4bbc-c1f3-7b363eb3c83a"
      },
      "execution_count": null,
      "outputs": [
        {
          "output_type": "stream",
          "name": "stdout",
          "text": [
            "🔍 Embedding for 'nlp':\n",
            "[ 0.00632154  0.00862563 -0.00748682  0.00126707 -0.00717181  0.00377521\n",
            "  0.01209424  0.00406141  0.00259163  0.00158552]...\n",
            "\n",
            "🔗 Most similar to 'dogs':\n",
            "[('the', 0.4701727032661438), ('uses', 0.4059242010116577), ('brown', 0.4016493260860443)]\n"
          ]
        }
      ]
    },
    {
      "cell_type": "markdown",
      "source": [
        "## NLP Tasks"
      ],
      "metadata": {
        "id": "MJsupWExfFOH"
      }
    },
    {
      "cell_type": "markdown",
      "source": [
        "### Document Rating"
      ],
      "metadata": {
        "id": "jX7IYdr6jbYB"
      }
    },
    {
      "cell_type": "code",
      "source": [
        "from gensim.models import Word2Vec\n",
        "from sklearn.linear_model import Ridge\n",
        "from sklearn.metrics import mean_squared_error\n",
        "import numpy as np\n",
        "\n",
        "# Step 1: Data\n",
        "data = [\n",
        "    (\"I loved the movie, it was fantastic!\", \"positive\", 4.5),\n",
        "    (\"The movie was okay, not the best.\", \"neutral\", 3.0),\n",
        "    (\"Terrible movie. Wouldn’t recommend.\", \"negative\", 1.2),\n",
        "    (\"Really enjoyed the characters and plot.\", \"positive\", 4.7),\n",
        "    (\"It was boring and predictable.\", \"negative\", 2.0),\n",
        "    (\"An average film, not too bad.\", \"neutral\", 3.2)\n",
        "]\n",
        "\n",
        "# Step 2: Preprocess: lowercase + tokenization\n",
        "sentences = [text.lower().split() for text, _, _ in data]\n",
        "scores = [score for _, _, score in data]\n",
        "\n",
        "# Step 3: Train Word2Vec model\n",
        "w2v_model = Word2Vec(sentences, vector_size=50, window=5, min_count=1, workers=2, epochs=100)\n",
        "\n",
        "# Step 4: Convert each sentence into sentence vector (average of word vectors)\n",
        "def sentence_vector(tokens, model):\n",
        "    vectors = [model.wv[word] for word in tokens if word in model.wv]\n",
        "    if vectors:\n",
        "        return np.mean(vectors, axis=0)\n",
        "    else:\n",
        "        return np.zeros(model.vector_size)\n",
        "\n",
        "X = [sentence_vector(tokens, w2v_model) for tokens in sentences]\n",
        "y = scores\n",
        "\n",
        "# Step 5: Train Ridge regression\n",
        "reg = Ridge()\n",
        "reg.fit(X, y)\n",
        "\n",
        "# Step 6: Evaluate on training data\n",
        "y_pred = reg.predict(X)\n",
        "mse = mean_squared_error(y, y_pred)\n",
        "print(f\"MSE on training data: {mse:.3f}\")\n",
        "\n",
        "# Step 7: Predict new review\n",
        "new_review = \"It was a wonderful and heartwarming film\"\n",
        "new_tokens = new_review.lower().split()\n",
        "new_vec = sentence_vector(new_tokens, w2v_model)\n",
        "predicted_score = reg.predict([new_vec])[0]\n",
        "print(f\"Predicted Score for Review: \\\"{new_review}\\\" → {predicted_score:.2f}\")"
      ],
      "metadata": {
        "colab": {
          "base_uri": "https://localhost:8080/"
        },
        "id": "x9mtCaGDiZ2I",
        "outputId": "2597cc40-0a64-45a2-8ecf-999ad03fca7d"
      },
      "execution_count": null,
      "outputs": [
        {
          "output_type": "stream",
          "name": "stdout",
          "text": [
            "MSE on training data: 1.557\n",
            "Predicted Score for Review: \"It was a wonderful and heartwarming film\" → 3.10\n"
          ]
        }
      ]
    },
    {
      "cell_type": "markdown",
      "source": [
        "### Document Clustering"
      ],
      "metadata": {
        "id": "O10zhn-NjBMP"
      }
    },
    {
      "cell_type": "code",
      "source": [
        "from gensim.models import Word2Vec\n",
        "from sklearn.cluster import KMeans\n",
        "from sklearn.decomposition import PCA\n",
        "import matplotlib.pyplot as plt\n",
        "import numpy as np\n",
        "\n",
        "# Step 1: Sample dataset (feel free to replace with your own!)\n",
        "documents = [\n",
        "    \"Absolutely loved this movie! The story was brilliant.\",\n",
        "    \"The cinematography and the music were amazing.\",\n",
        "    \"It was a boring and predictable movie.\",\n",
        "    \"Fantastic performances by the entire cast.\",\n",
        "    \"The plot was confusing and slow.\",\n",
        "    \"A heartwarming story that touched my soul.\",\n",
        "    \"Terrible acting. Couldn't finish watching.\",\n",
        "    \"An exciting thriller that kept me on edge.\",\n",
        "    \"Not my cup of tea. Very slow pacing.\",\n",
        "    \"The direction and screenplay were top-notch.\",\n",
        "    \"A masterpiece with great emotional depth.\",\n",
        "    \"Very bad movie. Poorly executed.\",\n",
        "    \"An inspiring film with powerful messages.\",\n",
        "    \"Mediocre at best. I expected more.\",\n",
        "    \"Great visuals but the story lacked impact.\",\n",
        "    \"Loved the dialogues and the chemistry between leads.\",\n",
        "    \"Too many clichés and weak character development.\",\n",
        "    \"One of the best films I've seen this year.\",\n",
        "    \"The editing was sloppy and disjointed.\",\n",
        "    \"A cinematic experience I won’t forget.\",\n",
        "    \"Fails to deliver on the hype.\",\n",
        "    \"Stellar performances but the plot was underwhelming.\",\n",
        "    \"A fun ride with lots of laughs.\",\n",
        "    \"Dragged on forever. I lost interest halfway.\",\n",
        "    \"Impressive production design and art direction.\",\n",
        "    \"Very emotional and beautifully shot.\",\n",
        "    \"Just plain bad. Don't waste your time.\",\n",
        "    \"It had moments, but overall forgettable.\",\n",
        "    \"A gem of a movie. Highly recommended!\",\n",
        "    \"Predictable plot twists. Nothing new to offer.\"\n",
        "]\n",
        "\n",
        "# Step 2: Preprocessing\n",
        "tokenized_docs = [doc.lower().split() for doc in documents]\n",
        "\n",
        "# Step 3: Train Word2Vec\n",
        "w2v_model = Word2Vec(tokenized_docs, vector_size=50, window=5, min_count=1, workers=2, epochs=100)\n",
        "\n",
        "# Step 4: Convert each document to a vector (average of word vectors)\n",
        "def get_doc_vector(tokens, model):\n",
        "    vectors = [model.wv[word] for word in tokens if word in model.wv]\n",
        "    return np.mean(vectors, axis=0) if vectors else np.zeros(model.vector_size)\n",
        "\n",
        "X = np.array([get_doc_vector(doc, w2v_model) for doc in tokenized_docs])\n",
        "\n",
        "# Step 5: KMeans Clustering\n",
        "n_clusters = 3\n",
        "kmeans = KMeans(n_clusters=n_clusters, random_state=42)\n",
        "labels = kmeans.fit_predict(X)\n",
        "\n",
        "# Step 6: Print clustered documents\n",
        "print(\"\\n📁 Document Clusters:\")\n",
        "for i in range(n_clusters):\n",
        "    print(f\"\\nCluster {i}:\")\n",
        "    for idx, label in enumerate(labels):\n",
        "        if label == i:\n",
        "            print(f\"  - {documents[idx]}\")\n",
        "\n",
        "# Step 7: Optional - Visualize clusters using PCA\n",
        "pca = PCA(n_components=2)\n",
        "X_reduced = pca.fit_transform(X)\n",
        "\n",
        "plt.figure(figsize=(8, 6))\n",
        "for i in range(n_clusters):\n",
        "    plt.scatter(X_reduced[labels == i, 0], X_reduced[labels == i, 1], label=f\"Cluster {i}\")\n",
        "plt.title(\"Document Clustering with Word2Vec + KMeans\")\n",
        "plt.legend()\n",
        "plt.show()"
      ],
      "metadata": {
        "colab": {
          "base_uri": "https://localhost:8080/",
          "height": 1000
        },
        "id": "zV4-iCJ1iv9I",
        "outputId": "93f39611-2d3d-424e-c4fb-d0b45fa885a4"
      },
      "execution_count": null,
      "outputs": [
        {
          "output_type": "stream",
          "name": "stdout",
          "text": [
            "\n",
            "📁 Document Clusters:\n",
            "\n",
            "Cluster 0:\n",
            "  - Terrible acting. Couldn't finish watching.\n",
            "  - A masterpiece with great emotional depth.\n",
            "  - Very bad movie. Poorly executed.\n",
            "  - Predictable plot twists. Nothing new to offer.\n",
            "\n",
            "Cluster 1:\n",
            "  - It was a boring and predictable movie.\n",
            "  - A heartwarming story that touched my soul.\n",
            "  - An exciting thriller that kept me on edge.\n",
            "  - An inspiring film with powerful messages.\n",
            "  - Mediocre at best. I expected more.\n",
            "  - Too many clichés and weak character development.\n",
            "  - A cinematic experience I won’t forget.\n",
            "  - Fails to deliver on the hype.\n",
            "  - A fun ride with lots of laughs.\n",
            "  - Dragged on forever. I lost interest halfway.\n",
            "  - Just plain bad. Don't waste your time.\n",
            "  - It had moments, but overall forgettable.\n",
            "  - A gem of a movie. Highly recommended!\n",
            "\n",
            "Cluster 2:\n",
            "  - Absolutely loved this movie! The story was brilliant.\n",
            "  - The cinematography and the music were amazing.\n",
            "  - Fantastic performances by the entire cast.\n",
            "  - The plot was confusing and slow.\n",
            "  - Not my cup of tea. Very slow pacing.\n",
            "  - The direction and screenplay were top-notch.\n",
            "  - Great visuals but the story lacked impact.\n",
            "  - Loved the dialogues and the chemistry between leads.\n",
            "  - One of the best films I've seen this year.\n",
            "  - The editing was sloppy and disjointed.\n",
            "  - Stellar performances but the plot was underwhelming.\n",
            "  - Impressive production design and art direction.\n",
            "  - Very emotional and beautifully shot.\n"
          ]
        },
        {
          "output_type": "display_data",
          "data": {
            "text/plain": [
              "<Figure size 800x600 with 1 Axes>"
            ],
            "image/png": "[encoded data removed]"
          },
          "metadata": {}
        }
      ]
    },
    {
      "cell_type": "markdown",
      "source": [
        "### Text Similarity Search"
      ],
      "metadata": {
        "id": "l1gqGrnljjGQ"
      }
    },
    {
      "cell_type": "code",
      "source": [
        "from gensim.models import Word2Vec\n",
        "from sklearn.metrics.pairwise import cosine_similarity\n",
        "import numpy as np\n",
        "\n",
        "# Step 1: Same list of movie review-style documents\n",
        "documents = [\n",
        "    \"Absolutely loved this movie! The story was brilliant.\",\n",
        "    \"The cinematography and the music were amazing.\",\n",
        "    \"It was a boring and predictable movie.\",\n",
        "    \"Fantastic performances by the entire cast.\",\n",
        "    \"The plot was confusing and slow.\",\n",
        "    \"A heartwarming story that touched my soul.\",\n",
        "    \"Terrible acting. Couldn't finish watching.\",\n",
        "    \"An exciting thriller that kept me on edge.\",\n",
        "    \"Not my cup of tea. Very slow pacing.\",\n",
        "    \"The direction and screenplay were top-notch.\",\n",
        "    \"A masterpiece with great emotional depth.\",\n",
        "    \"Very bad movie. Poorly executed.\",\n",
        "    \"An inspiring film with powerful messages.\",\n",
        "    \"Mediocre at best. I expected more.\",\n",
        "    \"Great visuals but the story lacked impact.\",\n",
        "    \"Loved the dialogues and the chemistry between leads.\",\n",
        "    \"Too many clichés and weak character development.\",\n",
        "    \"One of the best films I've seen this year.\",\n",
        "    \"The editing was sloppy and disjointed.\",\n",
        "    \"A cinematic experience I won’t forget.\",\n",
        "    \"Fails to deliver on the hype.\",\n",
        "    \"Stellar performances but the plot was underwhelming.\",\n",
        "    \"A fun ride with lots of laughs.\",\n",
        "    \"Dragged on forever. I lost interest halfway.\",\n",
        "    \"Impressive production design and art direction.\",\n",
        "    \"Very emotional and beautifully shot.\",\n",
        "    \"Just plain bad. Don't waste your time.\",\n",
        "    \"It had moments, but overall forgettable.\",\n",
        "    \"A gem of a movie. Highly recommended!\",\n",
        "    \"Predictable plot twists. Nothing new to offer.\"\n",
        "]\n",
        "\n",
        "# Step 2: Tokenize\n",
        "tokenized_docs = [doc.lower().split() for doc in documents]\n",
        "\n",
        "# Step 3: Train Word2Vec\n",
        "w2v_model = Word2Vec(tokenized_docs, vector_size=100, window=5, min_count=1, workers=4, epochs=100)\n",
        "\n",
        "# Step 4: Create document embeddings\n",
        "def get_doc_vector(tokens, model):\n",
        "    vectors = [model.wv[word] for word in tokens if word in model.wv]\n",
        "    return np.mean(vectors, axis=0) if vectors else np.zeros(model.vector_size)\n",
        "\n",
        "doc_embeddings = np.array([get_doc_vector(doc, w2v_model) for doc in tokenized_docs])\n",
        "\n",
        "# Step 5: Define similarity search\n",
        "def search_similar_documents(query, top_k=5):\n",
        "    query_tokens = query.lower().split()\n",
        "    query_vec = get_doc_vector(query_tokens, w2v_model).reshape(1, -1)\n",
        "    similarities = cosine_similarity(query_vec, doc_embeddings).flatten()\n",
        "    top_indices = similarities.argsort()[-top_k:][::-1]\n",
        "\n",
        "    print(f\"\\n🔍 Query: {query}\")\n",
        "    print(\"\\n📄 Top Similar Documents:\")\n",
        "    for i in top_indices:\n",
        "        print(f\"  - (Score: {similarities[i]:.3f}) {documents[i]}\")\n",
        "\n",
        "# Step 6: Run search\n",
        "search_similar_documents(\"emotional story about love and friendship\")\n",
        "search_similar_documents(\"thrilling and action packed movie\")\n",
        "search_similar_documents(\"confusing and poorly made film\")"
      ],
      "metadata": {
        "colab": {
          "base_uri": "https://localhost:8080/"
        },
        "id": "QjkVYdqmjklU",
        "outputId": "73554eae-b127-4dd9-c31a-1cfe6fce7d70"
      },
      "execution_count": null,
      "outputs": [
        {
          "output_type": "stream",
          "name": "stdout",
          "text": [
            "\n",
            "🔍 Query: emotional story about love and friendship\n",
            "\n",
            "📄 Top Similar Documents:\n",
            "  - (Score: 0.958) The plot was confusing and slow.\n",
            "  - (Score: 0.958) Absolutely loved this movie! The story was brilliant.\n",
            "  - (Score: 0.957) It was a boring and predictable movie.\n",
            "  - (Score: 0.956) The editing was sloppy and disjointed.\n",
            "  - (Score: 0.955) Very emotional and beautifully shot.\n",
            "\n",
            "🔍 Query: thrilling and action packed movie\n",
            "\n",
            "📄 Top Similar Documents:\n",
            "  - (Score: 0.955) The plot was confusing and slow.\n",
            "  - (Score: 0.951) It was a boring and predictable movie.\n",
            "  - (Score: 0.950) Loved the dialogues and the chemistry between leads.\n",
            "  - (Score: 0.950) The editing was sloppy and disjointed.\n",
            "  - (Score: 0.950) The cinematography and the music were amazing.\n",
            "\n",
            "🔍 Query: confusing and poorly made film\n",
            "\n",
            "📄 Top Similar Documents:\n",
            "  - (Score: 0.948) The plot was confusing and slow.\n",
            "  - (Score: 0.933) One of the best films I've seen this year.\n",
            "  - (Score: 0.930) Absolutely loved this movie! The story was brilliant.\n",
            "  - (Score: 0.930) Loved the dialogues and the chemistry between leads.\n",
            "  - (Score: 0.929) It was a boring and predictable movie.\n"
          ]
        }
      ]
    },
    {
      "cell_type": "code",
      "source": [],
      "metadata": {
        "id": "bp0oqjN_jqPS"
      },
      "execution_count": null,
      "outputs": []
    }
  ]
}