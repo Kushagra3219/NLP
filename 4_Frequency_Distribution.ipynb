{
  "nbformat": 4,
  "nbformat_minor": 0,
  "metadata": {
    "colab": {
      "provenance": []
    },
    "kernelspec": {
      "name": "python3",
      "display_name": "Python 3"
    },
    "language_info": {
      "name": "python"
    }
  },
  "cells": [
    {
      "cell_type": "markdown",
      "source": [
        "## Word Frequency Distribution"
      ],
      "metadata": {
        "id": "q-f-0C9d-LCS"
      }
    },
    {
      "cell_type": "code",
      "execution_count": null,
      "metadata": {
        "colab": {
          "base_uri": "https://localhost:8080/"
        },
        "id": "mEcYUST58yO1",
        "outputId": "493e6b47-b9ae-4e49-ddfa-6ae51dd0d07e"
      },
      "outputs": [
        {
          "output_type": "stream",
          "name": "stderr",
          "text": [
            "[nltk_data] Downloading package punkt_tab to /root/nltk_data...\n",
            "[nltk_data]   Unzipping tokenizers/punkt_tab.zip.\n"
          ]
        },
        {
          "output_type": "stream",
          "name": "stdout",
          "text": [
            "Word Frequencies: Counter({'nlp': 2, '.': 2, 'is': 1, 'amazing': 1, 'makes': 1, 'machines': 1, 'understand': 1, 'text': 1})\n"
          ]
        }
      ],
      "source": [
        "from collections import Counter\n",
        "import nltk\n",
        "from nltk.tokenize import word_tokenize\n",
        "nltk.download('punkt_tab')\n",
        "\n",
        "def word_frequency(text):\n",
        "    words = word_tokenize(text.lower())\n",
        "    return Counter(words)\n",
        "\n",
        "text = \"NLP is amazing. NLP makes machines understand text.\"\n",
        "print(\"Word Frequencies:\", word_frequency(text))"
      ]
    },
    {
      "cell_type": "markdown",
      "source": [
        "## BOW"
      ],
      "metadata": {
        "id": "zclKCT59-UqL"
      }
    },
    {
      "cell_type": "code",
      "source": [
        "from sklearn.feature_extraction.text import CountVectorizer\n",
        "\n",
        "corpus = [\n",
        "    \"NLP is fun and exciting\",\n",
        "    \"Machines understand NLP and text\",\n",
        "    \"Text processing is part of NLP\"\n",
        "]\n",
        "\n",
        "vectorizer = CountVectorizer()\n",
        "X = vectorizer.fit_transform(corpus)\n",
        "\n",
        "print(\"Feature Names:\", vectorizer.get_feature_names_out())\n",
        "print(\"BoW Representation:\")\n",
        "print(X.toarray())"
      ],
      "metadata": {
        "colab": {
          "base_uri": "https://localhost:8080/"
        },
        "id": "S0NytynQ-Nss",
        "outputId": "98247a87-e525-462d-e455-828a4d47c8c8"
      },
      "execution_count": null,
      "outputs": [
        {
          "output_type": "stream",
          "name": "stdout",
          "text": [
            "Feature Names: ['and' 'exciting' 'fun' 'is' 'machines' 'nlp' 'of' 'part' 'processing'\n",
            " 'text' 'understand']\n",
            "BoW Representation:\n",
            "[[1 1 1 1 0 1 0 0 0 0 0]\n",
            " [1 0 0 0 1 1 0 0 0 1 1]\n",
            " [0 0 0 1 0 1 1 1 1 1 0]]\n"
          ]
        }
      ]
    },
    {
      "cell_type": "markdown",
      "source": [
        "## TF-IDF"
      ],
      "metadata": {
        "id": "UlCTzjF6-drA"
      }
    },
    {
      "cell_type": "code",
      "source": [
        "from sklearn.feature_extraction.text import TfidfVectorizer\n",
        "\n",
        "vectorizer = TfidfVectorizer()\n",
        "X = vectorizer.fit_transform(corpus)\n",
        "\n",
        "print(\"Feature Names:\", vectorizer.get_feature_names_out())\n",
        "print(\"TF-IDF Representation:\")\n",
        "print(X.toarray())"
      ],
      "metadata": {
        "colab": {
          "base_uri": "https://localhost:8080/"
        },
        "id": "hyDCO38--Vhg",
        "outputId": "1a2d5889-7c9a-4d92-e335-44b4e5cbab76"
      },
      "execution_count": null,
      "outputs": [
        {
          "output_type": "stream",
          "name": "stdout",
          "text": [
            "Feature Names: ['and' 'exciting' 'fun' 'is' 'machines' 'nlp' 'of' 'part' 'processing'\n",
            " 'text' 'understand']\n",
            "TF-IDF Representation:\n",
            "[[0.40619178 0.53409337 0.53409337 0.40619178 0.         0.31544415\n",
            "  0.         0.         0.         0.         0.        ]\n",
            " [0.40619178 0.         0.         0.         0.53409337 0.31544415\n",
            "  0.         0.         0.         0.40619178 0.53409337]\n",
            " [0.         0.         0.         0.35829137 0.         0.27824521\n",
            "  0.4711101  0.4711101  0.4711101  0.35829137 0.        ]]\n"
          ]
        }
      ]
    },
    {
      "cell_type": "markdown",
      "source": [
        "## NLP Task - Keyword Extraction"
      ],
      "metadata": {
        "id": "ALtrtop8-irF"
      }
    },
    {
      "cell_type": "code",
      "source": [
        "import numpy as np\n",
        "\n",
        "feature_array = np.array(vectorizer.get_feature_names_out())\n",
        "importance = np.argsort(X.toarray()).flatten()[::-1]\n",
        "\n",
        "keywords = feature_array[importance[:5]]\n",
        "print(\"Top Keywords:\", keywords)"
      ],
      "metadata": {
        "colab": {
          "base_uri": "https://localhost:8080/"
        },
        "id": "IDMea6mB-f2A",
        "outputId": "0df4931c-fef2-4b55-eaad-ba45b3e920d3"
      },
      "execution_count": null,
      "outputs": [
        {
          "output_type": "stream",
          "name": "stdout",
          "text": [
            "Top Keywords: ['processing' 'of' 'part' 'is' 'text']\n"
          ]
        }
      ]
    },
    {
      "cell_type": "code",
      "source": [],
      "metadata": {
        "id": "piFeMNVw-kxv"
      },
      "execution_count": null,
      "outputs": []
    }
  ]
}